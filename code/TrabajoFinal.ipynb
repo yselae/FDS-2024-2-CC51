{
 "cells": [
  {
   "cell_type": "markdown",
   "metadata": {},
   "source": [
    "**Importación de librerías**"
   ]
  },
  {
   "cell_type": "code",
   "execution_count": 1,
   "metadata": {
    "id": "BZ_2Hk79Suyp"
   },
   "outputs": [],
   "source": [
    "import pandas as pd\n",
    "import numpy as np\n",
    "import seaborn as sns\n",
    "import matplotlib.pyplot as plt"
   ]
  },
  {
   "cell_type": "markdown",
   "metadata": {},
   "source": [
    "**CARGAR LOS DATOS**"
   ]
  },
  {
   "cell_type": "code",
   "execution_count": 2,
   "metadata": {},
   "outputs": [
    {
     "name": "stdout",
     "output_type": "stream",
     "text": [
      "Directorio actual: c:\\Users\\user\\OneDrive\\Documentos\\GitHub\\FDS-2024-2-CC51\\code\n"
     ]
    }
   ],
   "source": [
    "# Identificar el directorio\n",
    "import os\n",
    "print(\"Directorio actual:\", os.getcwd())"
   ]
  },
  {
   "cell_type": "code",
   "execution_count": 3,
   "metadata": {},
   "outputs": [],
   "source": [
    "# Path del directorio\n",
    "path = r'C:/Users/user/OneDrive/Documentos/GitHub/FDS-2024-2-CC51/data/'\n",
    "# Cargar el archivo CSV en un DataFrame\n",
    "youtube_df = pd.read_csv(path + 'MXvideos_cc50_202101.csv')\n",
    "# Cargar el archivo json de categorías \n",
    "categorias_df = pd.read_json(path + 'MX_category_id.json')"
   ]
  },
  {
   "cell_type": "markdown",
   "metadata": {},
   "source": [
    "**INSPECCIONAR LOS DATOS**"
   ]
  },
  {
   "cell_type": "code",
   "execution_count": 4,
   "metadata": {},
   "outputs": [
    {
     "data": {
      "text/html": [
       "<div>\n",
       "<style scoped>\n",
       "    .dataframe tbody tr th:only-of-type {\n",
       "        vertical-align: middle;\n",
       "    }\n",
       "\n",
       "    .dataframe tbody tr th {\n",
       "        vertical-align: top;\n",
       "    }\n",
       "\n",
       "    .dataframe thead th {\n",
       "        text-align: right;\n",
       "    }\n",
       "</style>\n",
       "<table border=\"1\" class=\"dataframe\">\n",
       "  <thead>\n",
       "    <tr style=\"text-align: right;\">\n",
       "      <th></th>\n",
       "      <th>video_id</th>\n",
       "      <th>trending_date</th>\n",
       "      <th>title</th>\n",
       "      <th>channel_title</th>\n",
       "      <th>category_id</th>\n",
       "      <th>publish_time</th>\n",
       "      <th>tags</th>\n",
       "      <th>views</th>\n",
       "      <th>likes</th>\n",
       "      <th>dislikes</th>\n",
       "      <th>comment_count</th>\n",
       "      <th>thumbnail_link</th>\n",
       "      <th>comments_disabled</th>\n",
       "      <th>ratings_disabled</th>\n",
       "      <th>video_error_or_removed</th>\n",
       "      <th>description</th>\n",
       "      <th>state</th>\n",
       "      <th>lat</th>\n",
       "      <th>lon</th>\n",
       "      <th>geometry</th>\n",
       "    </tr>\n",
       "  </thead>\n",
       "  <tbody>\n",
       "    <tr>\n",
       "      <th>0</th>\n",
       "      <td>SbOwzAl9ZfQ</td>\n",
       "      <td>17.14.11</td>\n",
       "      <td>Capítulo 12 | MasterChef 2017</td>\n",
       "      <td>MasterChef 2017</td>\n",
       "      <td>24.0</td>\n",
       "      <td>13/11/2017 1:06</td>\n",
       "      <td>MasterChef Junior 2017|\"TV Azteca\"|\"recetas\"|\"...</td>\n",
       "      <td>310130.0</td>\n",
       "      <td>4182.0</td>\n",
       "      <td>361.0</td>\n",
       "      <td>1836.0</td>\n",
       "      <td>https://i.ytimg.com/vi/SbOwzAl9ZfQ/default.jpg</td>\n",
       "      <td>FALSO</td>\n",
       "      <td>FALSO</td>\n",
       "      <td>FALSO</td>\n",
       "      <td>Disfruta la presencia del Chef Torreblanca en ...</td>\n",
       "      <td>Tlaxcala</td>\n",
       "      <td>19.319995</td>\n",
       "      <td>-98.230010</td>\n",
       "      <td>POINT (-98.2300096 19.31999514)</td>\n",
       "    </tr>\n",
       "    <tr>\n",
       "      <th>1</th>\n",
       "      <td>klOV6Xh-DnI</td>\n",
       "      <td>17.14.11</td>\n",
       "      <td>ALEXA EX-INTEGRANTE DEL GRUPO TIMBIRICHE RENUN...</td>\n",
       "      <td>Micky Contreras Martinez</td>\n",
       "      <td>22.0</td>\n",
       "      <td>13/11/2017 0:11</td>\n",
       "      <td>La Voz Mexico 7</td>\n",
       "      <td>104972.0</td>\n",
       "      <td>271.0</td>\n",
       "      <td>174.0</td>\n",
       "      <td>369.0</td>\n",
       "      <td>https://i.ytimg.com/vi/klOV6Xh-DnI/default.jpg</td>\n",
       "      <td>FALSO</td>\n",
       "      <td>FALSO</td>\n",
       "      <td>FALSO</td>\n",
       "      <td>ALEXA EX-INTEGRANTE DEL GRUPO TIMBIRICHE RENUN...</td>\n",
       "      <td>Michoacan</td>\n",
       "      <td>19.679973</td>\n",
       "      <td>-100.569996</td>\n",
       "      <td>POINT (-100.569996 19.67997316)</td>\n",
       "    </tr>\n",
       "    <tr>\n",
       "      <th>2</th>\n",
       "      <td>6L2ZF7Qzsbk</td>\n",
       "      <td>17.14.11</td>\n",
       "      <td>LOUIS CKAGÓ - EL PULSO DE LA REPÚBLICA</td>\n",
       "      <td>El Pulso De La República</td>\n",
       "      <td>25.0</td>\n",
       "      <td>13/11/2017 12:00</td>\n",
       "      <td>Chumel Torres|\"El Pulso de la Republica\"|\"noti...</td>\n",
       "      <td>136064.0</td>\n",
       "      <td>10105.0</td>\n",
       "      <td>266.0</td>\n",
       "      <td>607.0</td>\n",
       "      <td>https://i.ytimg.com/vi/6L2ZF7Qzsbk/default.jpg</td>\n",
       "      <td>FALSO</td>\n",
       "      <td>FALSO</td>\n",
       "      <td>FALSO</td>\n",
       "      <td>La canción del principio se llama “Este espíri...</td>\n",
       "      <td>Guerrero</td>\n",
       "      <td>17.549974</td>\n",
       "      <td>-99.500010</td>\n",
       "      <td>POINT (-99.5000096 17.54997398)</td>\n",
       "    </tr>\n",
       "    <tr>\n",
       "      <th>3</th>\n",
       "      <td>hcY52MFWMDM</td>\n",
       "      <td>17.14.11</td>\n",
       "      <td>Sismo de 6.7 sacude Costa Rica 12 Noviembre 2017</td>\n",
       "      <td>Casanare</td>\n",
       "      <td>25.0</td>\n",
       "      <td>12/11/2017 22:47</td>\n",
       "      <td>temblor|\"costa rica\"|\"sismo en costa rica\"</td>\n",
       "      <td>96153.0</td>\n",
       "      <td>378.0</td>\n",
       "      <td>171.0</td>\n",
       "      <td>208.0</td>\n",
       "      <td>https://i.ytimg.com/vi/hcY52MFWMDM/default.jpg</td>\n",
       "      <td>FALSO</td>\n",
       "      <td>FALSO</td>\n",
       "      <td>FALSO</td>\n",
       "      <td>El video es de un Walmart en el pais centroame...</td>\n",
       "      <td>Hidalgo</td>\n",
       "      <td>20.170434</td>\n",
       "      <td>-98.730031</td>\n",
       "      <td>POINT (-98.73003076000001 20.17043418)</td>\n",
       "    </tr>\n",
       "    <tr>\n",
       "      <th>4</th>\n",
       "      <td>_OXDcGPVAa4</td>\n",
       "      <td>17.14.11</td>\n",
       "      <td>DOG HACKS | MUSAS LESSLIE LOS POLINESIOS</td>\n",
       "      <td>Musas</td>\n",
       "      <td>26.0</td>\n",
       "      <td>13/11/2017 14:17</td>\n",
       "      <td>MUSAS|\"lesslie\"|\"karen\"|\"hacks\"|\"perros\"|\"dogs...</td>\n",
       "      <td>499965.0</td>\n",
       "      <td>57781.0</td>\n",
       "      <td>681.0</td>\n",
       "      <td>7428.0</td>\n",
       "      <td>https://i.ytimg.com/vi/_OXDcGPVAa4/default.jpg</td>\n",
       "      <td>FALSO</td>\n",
       "      <td>FALSO</td>\n",
       "      <td>FALSO</td>\n",
       "      <td>MI HERMANO NARRA MI RUTINA DE MAQUILLAJE\\nhttp...</td>\n",
       "      <td>Jalisco</td>\n",
       "      <td>19.770019</td>\n",
       "      <td>-104.369997</td>\n",
       "      <td>POINT (-104.3699966 19.77001935)</td>\n",
       "    </tr>\n",
       "  </tbody>\n",
       "</table>\n",
       "</div>"
      ],
      "text/plain": [
       "      video_id trending_date  \\\n",
       "0  SbOwzAl9ZfQ      17.14.11   \n",
       "1  klOV6Xh-DnI      17.14.11   \n",
       "2  6L2ZF7Qzsbk      17.14.11   \n",
       "3  hcY52MFWMDM      17.14.11   \n",
       "4  _OXDcGPVAa4      17.14.11   \n",
       "\n",
       "                                               title  \\\n",
       "0                      Capítulo 12 | MasterChef 2017   \n",
       "1  ALEXA EX-INTEGRANTE DEL GRUPO TIMBIRICHE RENUN...   \n",
       "2             LOUIS CKAGÓ - EL PULSO DE LA REPÚBLICA   \n",
       "3   Sismo de 6.7 sacude Costa Rica 12 Noviembre 2017   \n",
       "4           DOG HACKS | MUSAS LESSLIE LOS POLINESIOS   \n",
       "\n",
       "              channel_title  category_id      publish_time  \\\n",
       "0           MasterChef 2017         24.0   13/11/2017 1:06   \n",
       "1  Micky Contreras Martinez         22.0   13/11/2017 0:11   \n",
       "2  El Pulso De La República         25.0  13/11/2017 12:00   \n",
       "3                  Casanare         25.0  12/11/2017 22:47   \n",
       "4                     Musas         26.0  13/11/2017 14:17   \n",
       "\n",
       "                                                tags     views    likes  \\\n",
       "0  MasterChef Junior 2017|\"TV Azteca\"|\"recetas\"|\"...  310130.0   4182.0   \n",
       "1                                    La Voz Mexico 7  104972.0    271.0   \n",
       "2  Chumel Torres|\"El Pulso de la Republica\"|\"noti...  136064.0  10105.0   \n",
       "3         temblor|\"costa rica\"|\"sismo en costa rica\"   96153.0    378.0   \n",
       "4  MUSAS|\"lesslie\"|\"karen\"|\"hacks\"|\"perros\"|\"dogs...  499965.0  57781.0   \n",
       "\n",
       "   dislikes  comment_count                                  thumbnail_link  \\\n",
       "0     361.0         1836.0  https://i.ytimg.com/vi/SbOwzAl9ZfQ/default.jpg   \n",
       "1     174.0          369.0  https://i.ytimg.com/vi/klOV6Xh-DnI/default.jpg   \n",
       "2     266.0          607.0  https://i.ytimg.com/vi/6L2ZF7Qzsbk/default.jpg   \n",
       "3     171.0          208.0  https://i.ytimg.com/vi/hcY52MFWMDM/default.jpg   \n",
       "4     681.0         7428.0  https://i.ytimg.com/vi/_OXDcGPVAa4/default.jpg   \n",
       "\n",
       "  comments_disabled ratings_disabled video_error_or_removed  \\\n",
       "0             FALSO            FALSO                  FALSO   \n",
       "1             FALSO            FALSO                  FALSO   \n",
       "2             FALSO            FALSO                  FALSO   \n",
       "3             FALSO            FALSO                  FALSO   \n",
       "4             FALSO            FALSO                  FALSO   \n",
       "\n",
       "                                         description      state        lat  \\\n",
       "0  Disfruta la presencia del Chef Torreblanca en ...   Tlaxcala  19.319995   \n",
       "1  ALEXA EX-INTEGRANTE DEL GRUPO TIMBIRICHE RENUN...  Michoacan  19.679973   \n",
       "2  La canción del principio se llama “Este espíri...   Guerrero  17.549974   \n",
       "3  El video es de un Walmart en el pais centroame...    Hidalgo  20.170434   \n",
       "4  MI HERMANO NARRA MI RUTINA DE MAQUILLAJE\\nhttp...    Jalisco  19.770019   \n",
       "\n",
       "          lon                                geometry  \n",
       "0  -98.230010         POINT (-98.2300096 19.31999514)  \n",
       "1 -100.569996         POINT (-100.569996 19.67997316)  \n",
       "2  -99.500010         POINT (-99.5000096 17.54997398)  \n",
       "3  -98.730031  POINT (-98.73003076000001 20.17043418)  \n",
       "4 -104.369997        POINT (-104.3699966 19.77001935)  "
      ]
     },
     "execution_count": 4,
     "metadata": {},
     "output_type": "execute_result"
    }
   ],
   "source": [
    "youtube_df.head()"
   ]
  },
  {
   "cell_type": "code",
   "execution_count": 5,
   "metadata": {},
   "outputs": [
    {
     "data": {
      "text/html": [
       "<div>\n",
       "<style scoped>\n",
       "    .dataframe tbody tr th:only-of-type {\n",
       "        vertical-align: middle;\n",
       "    }\n",
       "\n",
       "    .dataframe tbody tr th {\n",
       "        vertical-align: top;\n",
       "    }\n",
       "\n",
       "    .dataframe thead th {\n",
       "        text-align: right;\n",
       "    }\n",
       "</style>\n",
       "<table border=\"1\" class=\"dataframe\">\n",
       "  <thead>\n",
       "    <tr style=\"text-align: right;\">\n",
       "      <th></th>\n",
       "      <th>kind</th>\n",
       "      <th>etag</th>\n",
       "      <th>items</th>\n",
       "    </tr>\n",
       "  </thead>\n",
       "  <tbody>\n",
       "    <tr>\n",
       "      <th>0</th>\n",
       "      <td>youtube#videoCategoryListResponse</td>\n",
       "      <td>\"XI7nbFXulYBIpL0ayR_gDh3eu1k/1v2mrzYSYG6onNLt2...</td>\n",
       "      <td>{'kind': 'youtube#videoCategory', 'etag': '\"XI...</td>\n",
       "    </tr>\n",
       "    <tr>\n",
       "      <th>1</th>\n",
       "      <td>youtube#videoCategoryListResponse</td>\n",
       "      <td>\"XI7nbFXulYBIpL0ayR_gDh3eu1k/1v2mrzYSYG6onNLt2...</td>\n",
       "      <td>{'kind': 'youtube#videoCategory', 'etag': '\"XI...</td>\n",
       "    </tr>\n",
       "    <tr>\n",
       "      <th>2</th>\n",
       "      <td>youtube#videoCategoryListResponse</td>\n",
       "      <td>\"XI7nbFXulYBIpL0ayR_gDh3eu1k/1v2mrzYSYG6onNLt2...</td>\n",
       "      <td>{'kind': 'youtube#videoCategory', 'etag': '\"XI...</td>\n",
       "    </tr>\n",
       "    <tr>\n",
       "      <th>3</th>\n",
       "      <td>youtube#videoCategoryListResponse</td>\n",
       "      <td>\"XI7nbFXulYBIpL0ayR_gDh3eu1k/1v2mrzYSYG6onNLt2...</td>\n",
       "      <td>{'kind': 'youtube#videoCategory', 'etag': '\"XI...</td>\n",
       "    </tr>\n",
       "    <tr>\n",
       "      <th>4</th>\n",
       "      <td>youtube#videoCategoryListResponse</td>\n",
       "      <td>\"XI7nbFXulYBIpL0ayR_gDh3eu1k/1v2mrzYSYG6onNLt2...</td>\n",
       "      <td>{'kind': 'youtube#videoCategory', 'etag': '\"XI...</td>\n",
       "    </tr>\n",
       "  </tbody>\n",
       "</table>\n",
       "</div>"
      ],
      "text/plain": [
       "                                kind  \\\n",
       "0  youtube#videoCategoryListResponse   \n",
       "1  youtube#videoCategoryListResponse   \n",
       "2  youtube#videoCategoryListResponse   \n",
       "3  youtube#videoCategoryListResponse   \n",
       "4  youtube#videoCategoryListResponse   \n",
       "\n",
       "                                                etag  \\\n",
       "0  \"XI7nbFXulYBIpL0ayR_gDh3eu1k/1v2mrzYSYG6onNLt2...   \n",
       "1  \"XI7nbFXulYBIpL0ayR_gDh3eu1k/1v2mrzYSYG6onNLt2...   \n",
       "2  \"XI7nbFXulYBIpL0ayR_gDh3eu1k/1v2mrzYSYG6onNLt2...   \n",
       "3  \"XI7nbFXulYBIpL0ayR_gDh3eu1k/1v2mrzYSYG6onNLt2...   \n",
       "4  \"XI7nbFXulYBIpL0ayR_gDh3eu1k/1v2mrzYSYG6onNLt2...   \n",
       "\n",
       "                                               items  \n",
       "0  {'kind': 'youtube#videoCategory', 'etag': '\"XI...  \n",
       "1  {'kind': 'youtube#videoCategory', 'etag': '\"XI...  \n",
       "2  {'kind': 'youtube#videoCategory', 'etag': '\"XI...  \n",
       "3  {'kind': 'youtube#videoCategory', 'etag': '\"XI...  \n",
       "4  {'kind': 'youtube#videoCategory', 'etag': '\"XI...  "
      ]
     },
     "execution_count": 5,
     "metadata": {},
     "output_type": "execute_result"
    }
   ],
   "source": [
    "categorias_df.head()"
   ]
  },
  {
   "cell_type": "code",
   "execution_count": 6,
   "metadata": {},
   "outputs": [
    {
     "data": {
      "text/html": [
       "<div>\n",
       "<style scoped>\n",
       "    .dataframe tbody tr th:only-of-type {\n",
       "        vertical-align: middle;\n",
       "    }\n",
       "\n",
       "    .dataframe tbody tr th {\n",
       "        vertical-align: top;\n",
       "    }\n",
       "\n",
       "    .dataframe thead th {\n",
       "        text-align: right;\n",
       "    }\n",
       "</style>\n",
       "<table border=\"1\" class=\"dataframe\">\n",
       "  <thead>\n",
       "    <tr style=\"text-align: right;\">\n",
       "      <th></th>\n",
       "      <th>category_id</th>\n",
       "      <th>views</th>\n",
       "      <th>likes</th>\n",
       "      <th>dislikes</th>\n",
       "      <th>comment_count</th>\n",
       "      <th>lat</th>\n",
       "      <th>lon</th>\n",
       "    </tr>\n",
       "  </thead>\n",
       "  <tbody>\n",
       "    <tr>\n",
       "      <th>count</th>\n",
       "      <td>40451.000000</td>\n",
       "      <td>4.045100e+04</td>\n",
       "      <td>4.045100e+04</td>\n",
       "      <td>4.045100e+04</td>\n",
       "      <td>40451.000000</td>\n",
       "      <td>44043.000000</td>\n",
       "      <td>44043.000000</td>\n",
       "    </tr>\n",
       "    <tr>\n",
       "      <th>mean</th>\n",
       "      <td>21.003140</td>\n",
       "      <td>3.423820e+05</td>\n",
       "      <td>1.586184e+04</td>\n",
       "      <td>7.471604e+02</td>\n",
       "      <td>2039.660008</td>\n",
       "      <td>21.481515</td>\n",
       "      <td>-100.242120</td>\n",
       "    </tr>\n",
       "    <tr>\n",
       "      <th>std</th>\n",
       "      <td>5.878995</td>\n",
       "      <td>1.714691e+06</td>\n",
       "      <td>8.108987e+04</td>\n",
       "      <td>1.095358e+04</td>\n",
       "      <td>13938.031797</td>\n",
       "      <td>3.502304</td>\n",
       "      <td>6.018379</td>\n",
       "    </tr>\n",
       "    <tr>\n",
       "      <th>min</th>\n",
       "      <td>1.000000</td>\n",
       "      <td>1.570000e+02</td>\n",
       "      <td>0.000000e+00</td>\n",
       "      <td>0.000000e+00</td>\n",
       "      <td>0.000000</td>\n",
       "      <td>16.429991</td>\n",
       "      <td>-116.009260</td>\n",
       "    </tr>\n",
       "    <tr>\n",
       "      <th>25%</th>\n",
       "      <td>20.000000</td>\n",
       "      <td>1.681300e+04</td>\n",
       "      <td>2.990000e+02</td>\n",
       "      <td>1.700000e+01</td>\n",
       "      <td>42.000000</td>\n",
       "      <td>18.920381</td>\n",
       "      <td>-103.500024</td>\n",
       "    </tr>\n",
       "    <tr>\n",
       "      <th>50%</th>\n",
       "      <td>24.000000</td>\n",
       "      <td>5.697300e+04</td>\n",
       "      <td>1.246000e+03</td>\n",
       "      <td>6.300000e+01</td>\n",
       "      <td>196.000000</td>\n",
       "      <td>20.379982</td>\n",
       "      <td>-99.669999</td>\n",
       "    </tr>\n",
       "    <tr>\n",
       "      <th>75%</th>\n",
       "      <td>24.000000</td>\n",
       "      <td>2.068940e+05</td>\n",
       "      <td>7.226000e+03</td>\n",
       "      <td>2.670000e+02</td>\n",
       "      <td>885.000000</td>\n",
       "      <td>22.733353</td>\n",
       "      <td>-98.230010</td>\n",
       "    </tr>\n",
       "    <tr>\n",
       "      <th>max</th>\n",
       "      <td>43.000000</td>\n",
       "      <td>1.009124e+08</td>\n",
       "      <td>4.470923e+06</td>\n",
       "      <td>1.353667e+06</td>\n",
       "      <td>905925.000000</td>\n",
       "      <td>30.764051</td>\n",
       "      <td>-86.711455</td>\n",
       "    </tr>\n",
       "  </tbody>\n",
       "</table>\n",
       "</div>"
      ],
      "text/plain": [
       "        category_id         views         likes      dislikes  comment_count  \\\n",
       "count  40451.000000  4.045100e+04  4.045100e+04  4.045100e+04   40451.000000   \n",
       "mean      21.003140  3.423820e+05  1.586184e+04  7.471604e+02    2039.660008   \n",
       "std        5.878995  1.714691e+06  8.108987e+04  1.095358e+04   13938.031797   \n",
       "min        1.000000  1.570000e+02  0.000000e+00  0.000000e+00       0.000000   \n",
       "25%       20.000000  1.681300e+04  2.990000e+02  1.700000e+01      42.000000   \n",
       "50%       24.000000  5.697300e+04  1.246000e+03  6.300000e+01     196.000000   \n",
       "75%       24.000000  2.068940e+05  7.226000e+03  2.670000e+02     885.000000   \n",
       "max       43.000000  1.009124e+08  4.470923e+06  1.353667e+06  905925.000000   \n",
       "\n",
       "                lat           lon  \n",
       "count  44043.000000  44043.000000  \n",
       "mean      21.481515   -100.242120  \n",
       "std        3.502304      6.018379  \n",
       "min       16.429991   -116.009260  \n",
       "25%       18.920381   -103.500024  \n",
       "50%       20.379982    -99.669999  \n",
       "75%       22.733353    -98.230010  \n",
       "max       30.764051    -86.711455  "
      ]
     },
     "execution_count": 6,
     "metadata": {},
     "output_type": "execute_result"
    }
   ],
   "source": [
    "youtube_df.describe()"
   ]
  },
  {
   "cell_type": "code",
   "execution_count": 7,
   "metadata": {},
   "outputs": [
    {
     "name": "stdout",
     "output_type": "stream",
     "text": [
      "video_id                    84\n",
      "trending_date             3450\n",
      "title                     3533\n",
      "channel_title             3542\n",
      "category_id               3592\n",
      "publish_time              3592\n",
      "tags                      3563\n",
      "views                     3592\n",
      "likes                     3592\n",
      "dislikes                  3592\n",
      "comment_count             3592\n",
      "thumbnail_link            3572\n",
      "comments_disabled         3592\n",
      "ratings_disabled          3592\n",
      "video_error_or_removed    3592\n",
      "description               7797\n",
      "state                        0\n",
      "lat                          0\n",
      "lon                          0\n",
      "geometry                     0\n",
      "dtype: int64\n"
     ]
    }
   ],
   "source": [
    "# Verificar qué columnas tienen datos faltantes y cuántos hay en cada una\n",
    "datos_faltantes = youtube_df.isnull().sum()\n",
    "print(datos_faltantes)"
   ]
  },
  {
   "cell_type": "code",
   "execution_count": 8,
   "metadata": {},
   "outputs": [],
   "source": [
    "# Eliminar filas con datos faltantes en columnas críticas\n",
    "youtube_df.dropna(subset=['video_id'], inplace=True)"
   ]
  },
  {
   "cell_type": "code",
   "execution_count": 9,
   "metadata": {},
   "outputs": [],
   "source": [
    "# Convertir las columnas necesarias a los tipos adecuados\n",
    "youtube_df['trending_date'] = pd.to_datetime(youtube_df['trending_date'], format='%y.%d.%m', errors='coerce')\n",
    "youtube_df['publish_time'] = pd.to_datetime(youtube_df['publish_time'], dayfirst=True, errors='coerce')\n",
    "\n",
    "# Convertir columnas numéricas\n",
    "numerical_cols = ['views', 'likes', 'dislikes', 'comment_count', 'category_id', 'lat', 'lon']\n",
    "for col in numerical_cols:\n",
    "    youtube_df[col] = pd.to_numeric(youtube_df[col], errors='coerce')\n",
    "\n",
    "# Eliminar filas con fechas no válidas\n",
    "youtube_df = youtube_df.dropna(subset=['trending_date', 'publish_time'])\n",
    "\n",
    "# Reemplazar valores faltantes en columnas categóricas con la moda\n",
    "if not youtube_df['description'].isnull().all():\n",
    "    youtube_df['description'] = youtube_df['description'].fillna(youtube_df['description'].mode()[0])"
   ]
  },
  {
   "cell_type": "code",
   "execution_count": 10,
   "metadata": {},
   "outputs": [
    {
     "data": {
      "text/plain": [
       "video_id                  0\n",
       "trending_date             0\n",
       "title                     0\n",
       "channel_title             0\n",
       "category_id               0\n",
       "publish_time              0\n",
       "tags                      0\n",
       "views                     0\n",
       "likes                     0\n",
       "dislikes                  0\n",
       "comment_count             0\n",
       "thumbnail_link            0\n",
       "comments_disabled         0\n",
       "ratings_disabled          0\n",
       "video_error_or_removed    0\n",
       "description               0\n",
       "state                     0\n",
       "lat                       0\n",
       "lon                       0\n",
       "geometry                  0\n",
       "dtype: int64"
      ]
     },
     "execution_count": 10,
     "metadata": {},
     "output_type": "execute_result"
    }
   ],
   "source": [
    "youtube_df.isnull().sum()"
   ]
  },
  {
   "cell_type": "code",
   "execution_count": 11,
   "metadata": {},
   "outputs": [],
   "source": [
    "# Unimos el csv con el JSON\n",
    "# Procesar el JSON para extraer las categorías y sus identificadores\n",
    "categorias_df = pd.json_normalize(categorias_df[\"items\"])[['id', 'snippet.title']]\n",
    "categorias_df.columns = ['category_id', 'category_title']\n",
    "\n",
    "# Convertir category_id a int en ambos DataFrames para asegurar que la unión funcione correctamente\n",
    "categorias_df['category_id'] = categorias_df['category_id'].astype(int)\n",
    "youtube_df['category_id'] = youtube_df['category_id'].astype(int)\n",
    "\n",
    "# Unir los datos del CSV con las categorías del JSON\n",
    "videos_df = youtube_df.merge(categorias_df, on='category_id', how='left')"
   ]
  },
  {
   "cell_type": "code",
   "execution_count": 12,
   "metadata": {},
   "outputs": [
    {
     "data": {
      "text/html": [
       "<div>\n",
       "<style scoped>\n",
       "    .dataframe tbody tr th:only-of-type {\n",
       "        vertical-align: middle;\n",
       "    }\n",
       "\n",
       "    .dataframe tbody tr th {\n",
       "        vertical-align: top;\n",
       "    }\n",
       "\n",
       "    .dataframe thead th {\n",
       "        text-align: right;\n",
       "    }\n",
       "</style>\n",
       "<table border=\"1\" class=\"dataframe\">\n",
       "  <thead>\n",
       "    <tr style=\"text-align: right;\">\n",
       "      <th></th>\n",
       "      <th>video_id</th>\n",
       "      <th>trending_date</th>\n",
       "      <th>title</th>\n",
       "      <th>channel_title</th>\n",
       "      <th>category_id</th>\n",
       "      <th>publish_time</th>\n",
       "      <th>tags</th>\n",
       "      <th>views</th>\n",
       "      <th>likes</th>\n",
       "      <th>dislikes</th>\n",
       "      <th>...</th>\n",
       "      <th>thumbnail_link</th>\n",
       "      <th>comments_disabled</th>\n",
       "      <th>ratings_disabled</th>\n",
       "      <th>video_error_or_removed</th>\n",
       "      <th>description</th>\n",
       "      <th>state</th>\n",
       "      <th>lat</th>\n",
       "      <th>lon</th>\n",
       "      <th>geometry</th>\n",
       "      <th>category_title</th>\n",
       "    </tr>\n",
       "  </thead>\n",
       "  <tbody>\n",
       "    <tr>\n",
       "      <th>0</th>\n",
       "      <td>SbOwzAl9ZfQ</td>\n",
       "      <td>2017-11-14</td>\n",
       "      <td>Capítulo 12 | MasterChef 2017</td>\n",
       "      <td>MasterChef 2017</td>\n",
       "      <td>24</td>\n",
       "      <td>2017-11-13 01:06:00</td>\n",
       "      <td>MasterChef Junior 2017|\"TV Azteca\"|\"recetas\"|\"...</td>\n",
       "      <td>310130.0</td>\n",
       "      <td>4182.0</td>\n",
       "      <td>361.0</td>\n",
       "      <td>...</td>\n",
       "      <td>https://i.ytimg.com/vi/SbOwzAl9ZfQ/default.jpg</td>\n",
       "      <td>FALSO</td>\n",
       "      <td>FALSO</td>\n",
       "      <td>FALSO</td>\n",
       "      <td>Disfruta la presencia del Chef Torreblanca en ...</td>\n",
       "      <td>Tlaxcala</td>\n",
       "      <td>19.319995</td>\n",
       "      <td>-98.230010</td>\n",
       "      <td>POINT (-98.2300096 19.31999514)</td>\n",
       "      <td>Entertainment</td>\n",
       "    </tr>\n",
       "    <tr>\n",
       "      <th>1</th>\n",
       "      <td>klOV6Xh-DnI</td>\n",
       "      <td>2017-11-14</td>\n",
       "      <td>ALEXA EX-INTEGRANTE DEL GRUPO TIMBIRICHE RENUN...</td>\n",
       "      <td>Micky Contreras Martinez</td>\n",
       "      <td>22</td>\n",
       "      <td>2017-11-13 00:11:00</td>\n",
       "      <td>La Voz Mexico 7</td>\n",
       "      <td>104972.0</td>\n",
       "      <td>271.0</td>\n",
       "      <td>174.0</td>\n",
       "      <td>...</td>\n",
       "      <td>https://i.ytimg.com/vi/klOV6Xh-DnI/default.jpg</td>\n",
       "      <td>FALSO</td>\n",
       "      <td>FALSO</td>\n",
       "      <td>FALSO</td>\n",
       "      <td>ALEXA EX-INTEGRANTE DEL GRUPO TIMBIRICHE RENUN...</td>\n",
       "      <td>Michoacan</td>\n",
       "      <td>19.679973</td>\n",
       "      <td>-100.569996</td>\n",
       "      <td>POINT (-100.569996 19.67997316)</td>\n",
       "      <td>People &amp; Blogs</td>\n",
       "    </tr>\n",
       "    <tr>\n",
       "      <th>2</th>\n",
       "      <td>6L2ZF7Qzsbk</td>\n",
       "      <td>2017-11-14</td>\n",
       "      <td>LOUIS CKAGÓ - EL PULSO DE LA REPÚBLICA</td>\n",
       "      <td>El Pulso De La República</td>\n",
       "      <td>25</td>\n",
       "      <td>2017-11-13 12:00:00</td>\n",
       "      <td>Chumel Torres|\"El Pulso de la Republica\"|\"noti...</td>\n",
       "      <td>136064.0</td>\n",
       "      <td>10105.0</td>\n",
       "      <td>266.0</td>\n",
       "      <td>...</td>\n",
       "      <td>https://i.ytimg.com/vi/6L2ZF7Qzsbk/default.jpg</td>\n",
       "      <td>FALSO</td>\n",
       "      <td>FALSO</td>\n",
       "      <td>FALSO</td>\n",
       "      <td>La canción del principio se llama “Este espíri...</td>\n",
       "      <td>Guerrero</td>\n",
       "      <td>17.549974</td>\n",
       "      <td>-99.500010</td>\n",
       "      <td>POINT (-99.5000096 17.54997398)</td>\n",
       "      <td>News &amp; Politics</td>\n",
       "    </tr>\n",
       "    <tr>\n",
       "      <th>3</th>\n",
       "      <td>hcY52MFWMDM</td>\n",
       "      <td>2017-11-14</td>\n",
       "      <td>Sismo de 6.7 sacude Costa Rica 12 Noviembre 2017</td>\n",
       "      <td>Casanare</td>\n",
       "      <td>25</td>\n",
       "      <td>2017-11-12 22:47:00</td>\n",
       "      <td>temblor|\"costa rica\"|\"sismo en costa rica\"</td>\n",
       "      <td>96153.0</td>\n",
       "      <td>378.0</td>\n",
       "      <td>171.0</td>\n",
       "      <td>...</td>\n",
       "      <td>https://i.ytimg.com/vi/hcY52MFWMDM/default.jpg</td>\n",
       "      <td>FALSO</td>\n",
       "      <td>FALSO</td>\n",
       "      <td>FALSO</td>\n",
       "      <td>El video es de un Walmart en el pais centroame...</td>\n",
       "      <td>Hidalgo</td>\n",
       "      <td>20.170434</td>\n",
       "      <td>-98.730031</td>\n",
       "      <td>POINT (-98.73003076000001 20.17043418)</td>\n",
       "      <td>News &amp; Politics</td>\n",
       "    </tr>\n",
       "    <tr>\n",
       "      <th>4</th>\n",
       "      <td>_OXDcGPVAa4</td>\n",
       "      <td>2017-11-14</td>\n",
       "      <td>DOG HACKS | MUSAS LESSLIE LOS POLINESIOS</td>\n",
       "      <td>Musas</td>\n",
       "      <td>26</td>\n",
       "      <td>2017-11-13 14:17:00</td>\n",
       "      <td>MUSAS|\"lesslie\"|\"karen\"|\"hacks\"|\"perros\"|\"dogs...</td>\n",
       "      <td>499965.0</td>\n",
       "      <td>57781.0</td>\n",
       "      <td>681.0</td>\n",
       "      <td>...</td>\n",
       "      <td>https://i.ytimg.com/vi/_OXDcGPVAa4/default.jpg</td>\n",
       "      <td>FALSO</td>\n",
       "      <td>FALSO</td>\n",
       "      <td>FALSO</td>\n",
       "      <td>MI HERMANO NARRA MI RUTINA DE MAQUILLAJE\\nhttp...</td>\n",
       "      <td>Jalisco</td>\n",
       "      <td>19.770019</td>\n",
       "      <td>-104.369997</td>\n",
       "      <td>POINT (-104.3699966 19.77001935)</td>\n",
       "      <td>Howto &amp; Style</td>\n",
       "    </tr>\n",
       "  </tbody>\n",
       "</table>\n",
       "<p>5 rows × 21 columns</p>\n",
       "</div>"
      ],
      "text/plain": [
       "      video_id trending_date  \\\n",
       "0  SbOwzAl9ZfQ    2017-11-14   \n",
       "1  klOV6Xh-DnI    2017-11-14   \n",
       "2  6L2ZF7Qzsbk    2017-11-14   \n",
       "3  hcY52MFWMDM    2017-11-14   \n",
       "4  _OXDcGPVAa4    2017-11-14   \n",
       "\n",
       "                                               title  \\\n",
       "0                      Capítulo 12 | MasterChef 2017   \n",
       "1  ALEXA EX-INTEGRANTE DEL GRUPO TIMBIRICHE RENUN...   \n",
       "2             LOUIS CKAGÓ - EL PULSO DE LA REPÚBLICA   \n",
       "3   Sismo de 6.7 sacude Costa Rica 12 Noviembre 2017   \n",
       "4           DOG HACKS | MUSAS LESSLIE LOS POLINESIOS   \n",
       "\n",
       "              channel_title  category_id        publish_time  \\\n",
       "0           MasterChef 2017           24 2017-11-13 01:06:00   \n",
       "1  Micky Contreras Martinez           22 2017-11-13 00:11:00   \n",
       "2  El Pulso De La República           25 2017-11-13 12:00:00   \n",
       "3                  Casanare           25 2017-11-12 22:47:00   \n",
       "4                     Musas           26 2017-11-13 14:17:00   \n",
       "\n",
       "                                                tags     views    likes  \\\n",
       "0  MasterChef Junior 2017|\"TV Azteca\"|\"recetas\"|\"...  310130.0   4182.0   \n",
       "1                                    La Voz Mexico 7  104972.0    271.0   \n",
       "2  Chumel Torres|\"El Pulso de la Republica\"|\"noti...  136064.0  10105.0   \n",
       "3         temblor|\"costa rica\"|\"sismo en costa rica\"   96153.0    378.0   \n",
       "4  MUSAS|\"lesslie\"|\"karen\"|\"hacks\"|\"perros\"|\"dogs...  499965.0  57781.0   \n",
       "\n",
       "   dislikes  ...                                  thumbnail_link  \\\n",
       "0     361.0  ...  https://i.ytimg.com/vi/SbOwzAl9ZfQ/default.jpg   \n",
       "1     174.0  ...  https://i.ytimg.com/vi/klOV6Xh-DnI/default.jpg   \n",
       "2     266.0  ...  https://i.ytimg.com/vi/6L2ZF7Qzsbk/default.jpg   \n",
       "3     171.0  ...  https://i.ytimg.com/vi/hcY52MFWMDM/default.jpg   \n",
       "4     681.0  ...  https://i.ytimg.com/vi/_OXDcGPVAa4/default.jpg   \n",
       "\n",
       "  comments_disabled ratings_disabled video_error_or_removed  \\\n",
       "0             FALSO            FALSO                  FALSO   \n",
       "1             FALSO            FALSO                  FALSO   \n",
       "2             FALSO            FALSO                  FALSO   \n",
       "3             FALSO            FALSO                  FALSO   \n",
       "4             FALSO            FALSO                  FALSO   \n",
       "\n",
       "                                         description      state        lat  \\\n",
       "0  Disfruta la presencia del Chef Torreblanca en ...   Tlaxcala  19.319995   \n",
       "1  ALEXA EX-INTEGRANTE DEL GRUPO TIMBIRICHE RENUN...  Michoacan  19.679973   \n",
       "2  La canción del principio se llama “Este espíri...   Guerrero  17.549974   \n",
       "3  El video es de un Walmart en el pais centroame...    Hidalgo  20.170434   \n",
       "4  MI HERMANO NARRA MI RUTINA DE MAQUILLAJE\\nhttp...    Jalisco  19.770019   \n",
       "\n",
       "          lon                                geometry   category_title  \n",
       "0  -98.230010         POINT (-98.2300096 19.31999514)    Entertainment  \n",
       "1 -100.569996         POINT (-100.569996 19.67997316)   People & Blogs  \n",
       "2  -99.500010         POINT (-99.5000096 17.54997398)  News & Politics  \n",
       "3  -98.730031  POINT (-98.73003076000001 20.17043418)  News & Politics  \n",
       "4 -104.369997        POINT (-104.3699966 19.77001935)    Howto & Style  \n",
       "\n",
       "[5 rows x 21 columns]"
      ]
     },
     "execution_count": 12,
     "metadata": {},
     "output_type": "execute_result"
    }
   ],
   "source": [
    "videos_df.head()"
   ]
  },
  {
   "cell_type": "code",
   "execution_count": 15,
   "metadata": {},
   "outputs": [],
   "source": [
    "# Guardar el DataFrame limpio en un nuevo archivo CSV\n",
    "output_path = r'C:/Users/user/OneDrive/Documentos/GitHub/FDS-2024-2-CC51/data/Datos_Limpios.csv'\n",
    "videos_df.to_csv(output_path, index=False)"
   ]
  },
  {
   "cell_type": "code",
   "execution_count": 16,
   "metadata": {},
   "outputs": [
    {
     "data": {
      "text/plain": [
       "(40451, 21)"
      ]
     },
     "execution_count": 16,
     "metadata": {},
     "output_type": "execute_result"
    }
   ],
   "source": [
    "# Cantidad de los datos\n",
    "videos_df.shape"
   ]
  },
  {
   "cell_type": "code",
   "execution_count": 17,
   "metadata": {},
   "outputs": [
    {
     "data": {
      "text/plain": [
       "video_id                          object\n",
       "trending_date             datetime64[ns]\n",
       "title                             object\n",
       "channel_title                     object\n",
       "category_id                        int64\n",
       "publish_time              datetime64[ns]\n",
       "tags                              object\n",
       "views                            float64\n",
       "likes                            float64\n",
       "dislikes                         float64\n",
       "comment_count                    float64\n",
       "thumbnail_link                    object\n",
       "comments_disabled                 object\n",
       "ratings_disabled                  object\n",
       "video_error_or_removed            object\n",
       "description                       object\n",
       "state                             object\n",
       "lat                              float64\n",
       "lon                              float64\n",
       "geometry                          object\n",
       "category_title                    object\n",
       "dtype: object"
      ]
     },
     "execution_count": 17,
     "metadata": {},
     "output_type": "execute_result"
    }
   ],
   "source": [
    "# Tipos de los datos\n",
    "videos_df.dtypes"
   ]
  },
  {
   "cell_type": "code",
   "execution_count": 18,
   "metadata": {},
   "outputs": [
    {
     "data": {
      "text/plain": [
       "16"
      ]
     },
     "execution_count": 18,
     "metadata": {},
     "output_type": "execute_result"
    }
   ],
   "source": [
    "# Validamos el número de categorías únicas en la base\n",
    "len(videos_df.category_id.unique())"
   ]
  },
  {
   "cell_type": "code",
   "execution_count": 19,
   "metadata": {},
   "outputs": [
    {
     "name": "stdout",
     "output_type": "stream",
     "text": [
      "<class 'pandas.core.frame.DataFrame'>\n",
      "RangeIndex: 40451 entries, 0 to 40450\n",
      "Data columns (total 21 columns):\n",
      " #   Column                  Non-Null Count  Dtype         \n",
      "---  ------                  --------------  -----         \n",
      " 0   video_id                40451 non-null  object        \n",
      " 1   trending_date           40451 non-null  datetime64[ns]\n",
      " 2   title                   40451 non-null  object        \n",
      " 3   channel_title           40451 non-null  object        \n",
      " 4   category_id             40451 non-null  int64         \n",
      " 5   publish_time            40451 non-null  datetime64[ns]\n",
      " 6   tags                    40451 non-null  object        \n",
      " 7   views                   40451 non-null  float64       \n",
      " 8   likes                   40451 non-null  float64       \n",
      " 9   dislikes                40451 non-null  float64       \n",
      " 10  comment_count           40451 non-null  float64       \n",
      " 11  thumbnail_link          40451 non-null  object        \n",
      " 12  comments_disabled       40451 non-null  object        \n",
      " 13  ratings_disabled        40451 non-null  object        \n",
      " 14  video_error_or_removed  40451 non-null  object        \n",
      " 15  description             40451 non-null  object        \n",
      " 16  state                   40451 non-null  object        \n",
      " 17  lat                     40451 non-null  float64       \n",
      " 18  lon                     40451 non-null  float64       \n",
      " 19  geometry                40451 non-null  object        \n",
      " 20  category_title          40199 non-null  object        \n",
      "dtypes: datetime64[ns](2), float64(6), int64(1), object(12)\n",
      "memory usage: 6.5+ MB\n"
     ]
    }
   ],
   "source": [
    "# Estructura de los datos\n",
    "videos_df.info()"
   ]
  },
  {
   "cell_type": "markdown",
   "metadata": {},
   "source": [
    "**PRE-PROCESAMIENTO DE LOS DATOS**"
   ]
  },
  {
   "cell_type": "markdown",
   "metadata": {},
   "source": [
    "**VISUALIZACIÓN DE LOS DATOS**"
   ]
  },
  {
   "cell_type": "markdown",
   "metadata": {},
   "source": [
    "**REQUERIMIENTOS SOLICITADOS**"
   ]
  },
  {
   "cell_type": "code",
   "execution_count": 21,
   "metadata": {},
   "outputs": [],
   "source": [
    "# Importamos todas las librerias necesarias para resolver los requerimientos\n",
    "import matplotlib.pyplot as plt\n",
    "import seaborn as sns\n",
    "from sklearn.model_selection import train_test_split\n",
    "from sklearn.linear_model import LinearRegression\n",
    "from sklearn.metrics import mean_squared_error, r2_score\n",
    "\n",
    "# Función para mostrar gráficos\n",
    "def show_plot(title, xlabel, ylabel):\n",
    "    plt.title(title)\n",
    "    plt.xlabel(xlabel)\n",
    "    plt.ylabel(ylabel)\n",
    "    plt.xticks(rotation=90)\n",
    "    plt.show()"
   ]
  },
  {
   "cell_type": "markdown",
   "metadata": {},
   "source": [
    "***Por Categorías de videos***"
   ]
  },
  {
   "cell_type": "markdown",
   "metadata": {},
   "source": [
    "1. ¿Qué categorías de videos son las de mayor tendencia?"
   ]
  },
  {
   "cell_type": "code",
   "execution_count": 25,
   "metadata": {},
   "outputs": [
    {
     "name": "stderr",
     "output_type": "stream",
     "text": [
      "C:\\Users\\user\\AppData\\Local\\Temp\\ipykernel_17296\\566815981.py:3: FutureWarning: \n",
      "\n",
      "Passing `palette` without assigning `hue` is deprecated and will be removed in v0.14.0. Assign the `x` variable to `hue` and set `legend=False` for the same effect.\n",
      "\n",
      "  sns.barplot(x=trending_categories.index, y=trending_categories.values, palette='viridis')\n"
     ]
    },
    {
     "data": {
      "image/png": "[encoded data removed]",
      "text/plain": [
       "<Figure size 1000x600 with 1 Axes>"
      ]
     },
     "metadata": {},
     "output_type": "display_data"
    }
   ],
   "source": [
    "trending_categories = videos_df['category_id'].value_counts()\n",
    "plt.figure(figsize=(10, 6))\n",
    "sns.barplot(x=trending_categories.index, y=trending_categories.values, palette='viridis')\n",
    "show_plot('Categorías de videos de mayor tendencia', 'Categoría', 'Número de tendencias')"
   ]
  },
  {
   "cell_type": "markdown",
   "metadata": {},
   "source": [
    "2. ¿Qué categorías de videos son los que más gustan? ¿Y las que menos gustan?"
   ]
  },
  {
   "cell_type": "code",
   "execution_count": null,
   "metadata": {},
   "outputs": [],
   "source": []
  },
  {
   "cell_type": "markdown",
   "metadata": {},
   "source": [
    "3. ¿Qué categorías de videos tienen la mejor proporción (ratio) de “Me gusta” / “No me gusta”?"
   ]
  },
  {
   "cell_type": "markdown",
   "metadata": {},
   "source": [
    "4. ¿Qué categorías de videos tienen la mejor proporción (ratio) de “Vistas” / “Comentarios”?"
   ]
  },
  {
   "cell_type": "markdown",
   "metadata": {},
   "source": [
    "***Por el tiempo transcurrido***"
   ]
  },
  {
   "cell_type": "markdown",
   "metadata": {},
   "source": [
    "5. ¿Cómo ha cambiado el volumen de los videos en tendencia a lo largo del tiempo?"
   ]
  },
  {
   "cell_type": "markdown",
   "metadata": {},
   "source": [
    "***Por Canales de YouTube***"
   ]
  },
  {
   "cell_type": "markdown",
   "metadata": {},
   "source": [
    "6. ¿Qué Canales de YouTube son tendencia más frecuentemente? ¿Y cuáles con menos frecuencia?"
   ]
  },
  {
   "cell_type": "markdown",
   "metadata": {},
   "source": [
    "***Por la geografía del país***"
   ]
  },
  {
   "cell_type": "markdown",
   "metadata": {},
   "source": [
    "7. ¿En qué Estados se presenta el mayor número de “Vistas”, “Me gusta” y “No me gusta”?"
   ]
  },
  {
   "cell_type": "markdown",
   "metadata": {},
   "source": [
    "***Adicionales***"
   ]
  },
  {
   "cell_type": "markdown",
   "metadata": {},
   "source": [
    "8. ¿Los videos en tendencia son los que mayor cantidad de comentarios positivos reciben?"
   ]
  },
  {
   "cell_type": "markdown",
   "metadata": {},
   "source": [
    "9. ¿Es factible predecir el número de “Vistas” o “Me gusta” o “No me gusta”?"
   ]
  },
  {
   "cell_type": "markdown",
   "metadata": {},
   "source": [
    "**MODELIZAR Y EVALUAR LOS RESULTADOS**"
   ]
  }
 ],
 "metadata": {
  "colab": {
   "provenance": []
  },
  "kernelspec": {
   "display_name": "Python 3",
   "name": "python3"
  },
  "language_info": {
   "codemirror_mode": {
    "name": "ipython",
    "version": 3
   },
   "file_extension": ".py",
   "mimetype": "text/x-python",
   "name": "python",
   "nbconvert_exporter": "python",
   "pygments_lexer": "ipython3",
   "version": "3.12.4"
  }
 },
 "nbformat": 4,
 "nbformat_minor": 0
}
